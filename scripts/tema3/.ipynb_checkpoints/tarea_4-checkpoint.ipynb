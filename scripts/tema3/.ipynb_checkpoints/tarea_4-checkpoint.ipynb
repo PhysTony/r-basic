{
 "cells": [
  {
   "cell_type": "code",
   "execution_count": 7,
   "id": "71a6a420-f1ba-4260-bed3-44955bba0170",
   "metadata": {},
   "outputs": [],
   "source": [
    "import numpy as np\n",
    "import math\n",
    "import string"
   ]
  },
  {
   "cell_type": "code",
   "execution_count": 52,
   "id": "a244aa12-c8a7-4f23-a55f-be5e8fa74242",
   "metadata": {},
   "outputs": [],
   "source": [
    "# 1:\n",
    "def sol(a,b,c):\n",
    "    \n",
    "    dis = b**2 - 4*a*c\n",
    "    \n",
    "    if dis>0:\n",
    "        print(f\"Las soluciones son: \\n x_1 = \" \n",
    "              + str(-(b/(2*a)) + math.sqrt(dis)/(2*a))\n",
    "              + \"\\n x_2 = \"\n",
    "              + str(-(b/(2*a)) - math.sqrt(dis)/(2*a)))\n",
    "    \n",
    "    elif dis==0:\n",
    "        print(f\"La solución de multiplicidad dos es: \\n x = \" \n",
    "              + str(-b/(2*a)))  \n",
    "        \n",
    "    elif dis<0:\n",
    "        print(f\"Las soluciones son: \\n x_1 = \" \n",
    "              + str(-(b/(2*a)) + math.sqrt(-dis)*1j/(2*a))\n",
    "              + \"\\n x_2 = \"\n",
    "              + str(-(b/(2*a)) - math.sqrt(-dis)*1j/(2*a)))    "
   ]
  },
  {
   "cell_type": "code",
   "execution_count": 53,
   "id": "c843c3ae-cb18-4d5f-93f8-ef86bec3c49e",
   "metadata": {},
   "outputs": [
    {
     "name": "stdout",
     "output_type": "stream",
     "text": [
      "Las soluciones son: \n",
      " x_1 = (-0.5+0.8660254037844386j)\n",
      " x_2 = (-0.5-0.8660254037844386j)\n"
     ]
    }
   ],
   "source": [
    "sol(1,1,1)"
   ]
  },
  {
   "cell_type": "code",
   "execution_count": 99,
   "id": "f0d4b7d1-34a3-4ca0-8c64-2a48917c317f",
   "metadata": {},
   "outputs": [],
   "source": [
    "# 2:\n",
    "def palindromo(string):\n",
    "    ind =0\n",
    "    \n",
    "    text = ''.join(string.lower().split(\" \"))\n",
    "    \n",
    "    print(text)\n",
    "    \n",
    "    for n in np.arange(0,len(text)):\n",
    "        if text[n]!=text[-(n+1)]:\n",
    "            ind += 1\n",
    "               \n",
    "    if ind>0:\n",
    "        print(\"No es un palíndromo.\")\n",
    "    else:\n",
    "        print(\"Es un palíndromo.\")"
   ]
  },
  {
   "cell_type": "code",
   "execution_count": 101,
   "id": "b127e680-d5f0-402d-bcc0-7296091c1f76",
   "metadata": {},
   "outputs": [
    {
     "name": "stdout",
     "output_type": "stream",
     "text": [
      "asdds3\n",
      "No es un palíndromo.\n",
      "larutanosaportootropasonatural\n",
      "Es un palíndromo.\n"
     ]
    }
   ],
   "source": [
    "palindromo(\"asd ds3\")\n",
    "palindromo(\"La ruta nos aporto otro paso natural\")"
   ]
  },
  {
   "cell_type": "code",
   "execution_count": 47,
   "id": "6e3feed0-8321-47af-8ad6-1b9a645d8692",
   "metadata": {},
   "outputs": [],
   "source": [
    "# 3:\n",
    "def morse(word):\n",
    "    morse_dic = { 'A':'.-', 'B':'-...',\n",
    "            'C':'-.-.', 'D':'-..', 'E':'.',\n",
    "            'F':'..-.', 'G':'--.', 'H':'....',\n",
    "            'I':'..', 'J':'.---', 'K':'-.-',\n",
    "            'L':'.-..', 'M':'--', 'N':'-.',\n",
    "            'O':'---', 'P':'.--.', 'Q':'--.-',\n",
    "            'R':'.-.', 'S':'...', 'T':'-',\n",
    "            'U':'..-', 'V':'...-', 'W':'.--',\n",
    "            'X':'-..-', 'Y':'-.--', 'Z':'--..',\n",
    "            '1':'.----', '2':'..---', '3':'...--',\n",
    "            '4':'....-', '5':'.....', '6':'-....',\n",
    "            '7':'--...', '8':'---..', '9':'----.',\n",
    "            '0':'-----'}\n",
    "    dic = list(morse_dic.keys())\n",
    "    \n",
    "    text = [char for char in word.upper()]\n",
    "    \n",
    "    for n in np.arange(0,len(text)):\n",
    "        for m in np.arange(0,len(dic)):\n",
    "            if text[n]==dic[m]:\n",
    "                text[n]=morse_dic[dic[m]]\n",
    "        \n",
    "    print(' '.join(text))"
   ]
  },
  {
   "cell_type": "code",
   "execution_count": 48,
   "id": "e1b739a4-987c-4819-aa0e-96d63da01a50",
   "metadata": {},
   "outputs": [
    {
     "name": "stdout",
     "output_type": "stream",
     "text": [
      ". ... - .   -- . -. ... .- .--- .   . ... - .- .-. .-   -.-. .. ..-. .-. .- -.. ---\n"
     ]
    }
   ],
   "source": [
    "text = \"Este mensaje estara cifrado\"\n",
    "morse(text)"
   ]
  },
  {
   "cell_type": "code",
   "execution_count": 19,
   "id": "146f19c5-2a30-4d2a-a34d-d6cb68a8415e",
   "metadata": {},
   "outputs": [],
   "source": [
    "# 4:\n",
    "def comp_dic(dic_1,dic_2):\n",
    "    d_1 = list(dic_1.keys())\n",
    "    d_2 = list(dic_2.keys())\n",
    "    \n",
    "    print(f\"Las claves en común son: \\n\")\n",
    "    \n",
    "    for n in np.arange(0,len(d_1)):\n",
    "        for m in np.arange(0,len(d_2)):\n",
    "            if d_1[n]==d_2[m]:\n",
    "                print(d_1[n])"
   ]
  },
  {
   "cell_type": "code",
   "execution_count": 20,
   "id": "83ca4079-b42e-437b-97c6-96ebb006cf75",
   "metadata": {},
   "outputs": [
    {
     "name": "stdout",
     "output_type": "stream",
     "text": [
      "Las claves en común son: \n",
      "\n",
      "b\n"
     ]
    }
   ],
   "source": [
    "dic_1 = {'a':1 , 'b':2}\n",
    "dic_2 = {'j':1 , 'b':2}\n",
    "                \n",
    "comp_dic(dic_1,dic_2)"
   ]
  },
  {
   "cell_type": "code",
   "execution_count": 24,
   "id": "22f73c03-e629-4f16-a5c4-2686e66d0f83",
   "metadata": {},
   "outputs": [],
   "source": [
    "# 5:\n",
    "def primo(N):\n",
    "    if N==1:\n",
    "        print(\"1 no es primo.\")\n",
    "    \n",
    "    vec = np.arange(2,N)\n",
    "    ind = 0\n",
    "    \n",
    "    for m in vec:\n",
    "        if N%m==0:\n",
    "            ind += 1\n",
    "            \n",
    "    if ind==0:\n",
    "        print(str(N) + \" es primo.\")\n",
    "    else:\n",
    "        print(str(N) + \" no es primo.\")"
   ]
  },
  {
   "cell_type": "code",
   "execution_count": 25,
   "id": "44ceec10-2468-4449-8795-fea76c0c3e9a",
   "metadata": {},
   "outputs": [
    {
     "name": "stdout",
     "output_type": "stream",
     "text": [
      "67 es primo.\n"
     ]
    }
   ],
   "source": [
    "primo(67)"
   ]
  },
  {
   "cell_type": "code",
   "execution_count": 25,
   "id": "0303939e-1e58-4c6b-8783-e7a45049c821",
   "metadata": {},
   "outputs": [],
   "source": [
    "# 6:\n",
    "def uc(phr):\n",
    "    words = phr.lower().split(\" \")\n",
    "    \n",
    "    for i in np.arange(0,len(words)):\n",
    "        print(words[i])"
   ]
  },
  {
   "cell_type": "code",
   "execution_count": 26,
   "id": "2455b3c8-a5ed-4a2c-9c6f-0edd6ff7e53a",
   "metadata": {},
   "outputs": [
    {
     "name": "stdout",
     "output_type": "stream",
     "text": [
      "hol\n",
      "g\n"
     ]
    }
   ],
   "source": [
    "uc(\"Hol g\")"
   ]
  },
  {
   "cell_type": "code",
   "execution_count": 4,
   "id": "fffd2cdc-c110-4310-aa47-d0406f87abd0",
   "metadata": {},
   "outputs": [],
   "source": [
    "# 7:\n",
    "def mcd(x,y): \n",
    "    res = x%y\n",
    "    \n",
    "    while res!=0:\n",
    "        if res!=0:\n",
    "            x = y\n",
    "            y = res\n",
    "            res = x%y\n",
    "    \n",
    "    print(\"El mcd de \" + \"es \" + str(y))"
   ]
  },
  {
   "cell_type": "code",
   "execution_count": 5,
   "id": "981cae19-96bf-417c-ab8f-3203bf7b8659",
   "metadata": {},
   "outputs": [
    {
     "name": "stdout",
     "output_type": "stream",
     "text": [
      "El mcd de es 5\n"
     ]
    }
   ],
   "source": [
    "mcd(25,10)"
   ]
  },
  {
   "cell_type": "code",
   "execution_count": 67,
   "id": "73f0adbd-9007-41d6-bbf1-5fb24915b516",
   "metadata": {},
   "outputs": [],
   "source": [
    "# 8:\n",
    "def cesar(word):\n",
    "    cesar_dic = { 'A':'d', 'B':'e',\n",
    "            'C':'f', 'D':'g', 'E':'h',\n",
    "            'F':'i', 'G':'j', 'H':'k',\n",
    "            'I':'l', 'J':'m', 'K':'n',\n",
    "            'L':'o', 'M':'p', 'N':'q',\n",
    "            'O':'r', 'P':'s', 'Q':'t',\n",
    "            'R':'u', 'S':'v', 'T':'w',\n",
    "            'U':'x', 'V':'y', 'W':'z',\n",
    "            'X':'a', 'Y':'b', 'Z':'c'}\n",
    "    dic = list(cesar_dic.keys())\n",
    "    \n",
    "    text = [char for char in word.upper()]\n",
    "    \n",
    "    for n in np.arange(0,len(text)):\n",
    "        for m in np.arange(0,len(dic)):\n",
    "            if text[n]==dic[m]:\n",
    "                text[n]=cesar_dic[dic[m]]\n",
    "        \n",
    "    print(''.join(text))"
   ]
  },
  {
   "cell_type": "code",
   "execution_count": 71,
   "id": "353ed582-ca4e-4aa2-9af4-b3eea656e647",
   "metadata": {},
   "outputs": [
    {
     "name": "stdout",
     "output_type": "stream",
     "text": [
      "¿ixqflrqdud pdv gh 2 yhfhv?\n"
     ]
    }
   ],
   "source": [
    "text = \"¿Funcionara mas de 2 veces?\"\n",
    "cesar(text)"
   ]
  },
  {
   "cell_type": "code",
   "execution_count": 17,
   "id": "54af72e8-7930-4e1e-9aca-4feeed57f671",
   "metadata": {},
   "outputs": [],
   "source": [
    "# 9:\n",
    "def orden(text):\n",
    "    print(f\"En orden alfabético: \")\n",
    "    text.sort()\n",
    "    print(text)\n",
    "    print(f\"En orden alfabético invertida: \")\n",
    "    text.sort(reverse = True)\n",
    "    print(text)\n",
    "    print(f\"En orden ascedente de acuerdo a la longitud del texro: \")\n",
    "    text.sort(key = len)\n",
    "    print(text)"
   ]
  },
  {
   "cell_type": "code",
   "execution_count": 21,
   "id": "d721e0d6-074c-42f2-86d5-7af889598f6e",
   "metadata": {},
   "outputs": [
    {
     "name": "stdout",
     "output_type": "stream",
     "text": [
      "En orden alfabético: \n",
      "['3fasdf', 'ade56wertwert', 'as']\n",
      "En orden alfabético invertida: \n",
      "['as', 'ade56wertwert', '3fasdf']\n",
      "En orden ascedente de acuerdo a la longitud del texro: \n",
      "['as', '3fasdf', 'ade56wertwert']\n"
     ]
    }
   ],
   "source": [
    "orden([\"as\",\"ade56wertwert\",\"3fasdf\"])"
   ]
  },
  {
   "cell_type": "code",
   "execution_count": 36,
   "id": "323ab182-8f87-4ce6-b0e4-16cbaccf019a",
   "metadata": {},
   "outputs": [
    {
     "data": {
      "text/plain": [
       "{1: 1,\n",
       " 2: 1.4142135623730951,\n",
       " 3: 1.7320508075688772,\n",
       " 4: 2.0,\n",
       " 5: 2.23606797749979,\n",
       " 6: 2.449489742783178,\n",
       " 7: 2.6457513110645907,\n",
       " 8: 2.8284271247461903,\n",
       " 9: 3.0,\n",
       " 10: 3.1622776601683795}"
      ]
     },
     "execution_count": 36,
     "metadata": {},
     "output_type": "execute_result"
    }
   ],
   "source": [
    "# 10:\n",
    "dic_1 = {1:1, 2:math.sqrt(2), 3:math.sqrt(3), 4:math.sqrt(4), \n",
    "         5:math.sqrt(5), 6:math.sqrt(6), 7:math.sqrt(7),\n",
    "        8:math.sqrt(8), 9:math.sqrt(9), 10:math.sqrt(10)}\n",
    "dic_1"
   ]
  }
 ],
 "metadata": {
  "kernelspec": {
   "display_name": "Python 3",
   "language": "python",
   "name": "python3"
  },
  "language_info": {
   "codemirror_mode": {
    "name": "ipython",
    "version": 3
   },
   "file_extension": ".py",
   "mimetype": "text/x-python",
   "name": "python",
   "nbconvert_exporter": "python",
   "pygments_lexer": "ipython3",
   "version": "3.8.8"
  }
 },
 "nbformat": 4,
 "nbformat_minor": 5
}
