{
 "cells": [
  {
   "cell_type": "code",
   "execution_count": 3,
   "id": "71a6a420-f1ba-4260-bed3-44955bba0170",
   "metadata": {},
   "outputs": [],
   "source": [
    "import numpy as np"
   ]
  },
  {
   "cell_type": "code",
   "execution_count": 15,
   "id": "22f73c03-e629-4f16-a5c4-2686e66d0f83",
   "metadata": {},
   "outputs": [],
   "source": [
    "# 5\n",
    "def primo(N):\n",
    "    vec = np.arange(2,N)\n",
    "    ind = 0\n",
    "    \n",
    "    if N==1:\n",
    "        print(\"1 no es primo.\")\n",
    "    \n",
    "    for m in vec:\n",
    "        if N%m==0:\n",
    "            ind += 1\n",
    "            \n",
    "    if ind==0:\n",
    "        print(str(N) + \" es primo.\")\n",
    "    else:\n",
    "        print(str(N) + \" no es primo.\")"
   ]
  },
  {
   "cell_type": "code",
   "execution_count": 21,
   "id": "44ceec10-2468-4449-8795-fea76c0c3e9a",
   "metadata": {},
   "outputs": [
    {
     "name": "stdout",
     "output_type": "stream",
     "text": [
      "67 es primo.\n"
     ]
    }
   ],
   "source": [
    "primo(67)"
   ]
  },
  {
   "cell_type": "code",
   "execution_count": null,
   "id": "0303939e-1e58-4c6b-8783-e7a45049c821",
   "metadata": {},
   "outputs": [],
   "source": []
  }
 ],
 "metadata": {
  "kernelspec": {
   "display_name": "Python 3",
   "language": "python",
   "name": "python3"
  },
  "language_info": {
   "codemirror_mode": {
    "name": "ipython",
    "version": 3
   },
   "file_extension": ".py",
   "mimetype": "text/x-python",
   "name": "python",
   "nbconvert_exporter": "python",
   "pygments_lexer": "ipython3",
   "version": "3.8.8"
  }
 },
 "nbformat": 4,
 "nbformat_minor": 5
}
