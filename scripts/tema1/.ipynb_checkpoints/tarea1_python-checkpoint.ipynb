{
 "cells": [
  {
   "cell_type": "code",
   "execution_count": 22,
   "id": "5635b2f3-f449-4815-a376-a2e1eac906fe",
   "metadata": {},
   "outputs": [],
   "source": [
    "import math"
   ]
  },
  {
   "cell_type": "code",
   "execution_count": 81,
   "id": "62293ac1-96e2-484c-bd56-4ad929f9633a",
   "metadata": {},
   "outputs": [],
   "source": [
    "def prob1():\n",
    "    x = float(input(\"Introduzca un número real: \"))\n",
    "    if x<0:\n",
    "        print(str(x) + \" es negativo.\")\n",
    "    elif x>0:\n",
    "        print(str(x) + \" es positivo.\")\n",
    "    else:\n",
    "        print(\"0 no tiene signo.\")"
   ]
  },
  {
   "cell_type": "code",
   "execution_count": 82,
   "id": "63e57e8c-d3c8-49d8-ad1a-69b822b58bd4",
   "metadata": {},
   "outputs": [],
   "source": [
    "def prob2():\n",
    "    x = float(input(\"Introduzca un número real: \"))\n",
    "    if x>-5 and x<5:\n",
    "        print(\"El número \"+ str(x) + \" está en el intervalo (-5,5).\")\n",
    "    else:\n",
    "        print(\"El número \"+ str(x) + \" no está en el intervalo (-5,5).\")"
   ]
  },
  {
   "cell_type": "code",
   "execution_count": 83,
   "id": "42469383-e229-4221-9ab0-2736b8ecf91c",
   "metadata": {},
   "outputs": [],
   "source": [
    "def prob3(x,y):    \n",
    "    ang = math.atan(y/x)\n",
    "    \n",
    "    if ang==0:\n",
    "        print(str((x,y)) + \" se encuentra sobre el eje x positivo.\")\n",
    "    elif ang==math.pi:\n",
    "        print(str((x,y)) + \" se encuentra sobre el eje x negativo.\")\n",
    "    elif ang==math.pi/2:\n",
    "        print(str((x,y)) + \" se encuentra sobre el eje y positivo.\")\n",
    "    elif ang==3*math.pi/2:\n",
    "        print(str((x,y)) + \" se encuentra sobre el eje y negativo.\")\n",
    "    elif ang>0 and ang<math.pi/2:\n",
    "        print(str((x,y)) + \" está en el primer cuadrante.\")\n",
    "    elif ang>math.pi/2 and ang<math.pi:\n",
    "        print(str((x,y)) + \" está en el segundo cuadrante.\")\n",
    "    elif ang>math.pi and ang<3*math.pi/2:\n",
    "        print(str((x,y)) + \" está en el tercer cuadrante.\")\n",
    "    else:\n",
    "        print(str((x,y)) + \" está en el cuarto cuadrante.\")"
   ]
  },
  {
   "cell_type": "code",
   "execution_count": 84,
   "id": "625abeec-a5c4-4efe-ab21-24912b48727b",
   "metadata": {},
   "outputs": [],
   "source": [
    "def prob4(num1,num2):    \n",
    "    print(\"El cociente de la división entera se: \" + str(num1//num2))\n",
    "    print(\"El cociente de la división entera se: \" + str(math.remainder(num1,num2)))"
   ]
  },
  {
   "cell_type": "code",
   "execution_count": 85,
   "id": "6b50a9d7-e7d8-4a76-a033-05e4ad5be942",
   "metadata": {},
   "outputs": [],
   "source": [
    "def prob5(x):    \n",
    "    ent = math.isclose(math.modf(math.sqrt(x))[0], 0, rel_tol=1e-09)\n",
    "    \n",
    "    if ent:\n",
    "        print(str(round(math.sqrt(x),3)) + \" es un número cuadrado perfecto.\")\n",
    "    else:\n",
    "        print(str(round(math.sqrt(x),3)) + \" no es un número cuadrado perfecto.\")"
   ]
  },
  {
   "cell_type": "code",
   "execution_count": 86,
   "id": "81d5a905-3e31-4639-ad7f-205f393e7891",
   "metadata": {},
   "outputs": [],
   "source": [
    "def prob6(x):    \n",
    "    res4 = math.fmod(x,4)\n",
    "    res100 = math.fmod(x,100)\n",
    "    res400 = math.fmod(x,400)\n",
    "    \n",
    "    if res4==0 and res100!=0:\n",
    "        print(str(x) + \" corresponde a un anio bisiesto.\")\n",
    "    elif res400==0:\n",
    "        print(str(x) + \" corresponde a un anio bisiesto.\")\n",
    "    else:\n",
    "        print(str(x) + \" no corresponde a un anio bisiesto.\")"
   ]
  },
  {
   "cell_type": "code",
   "execution_count": 87,
   "id": "2a048dd6-3e74-4793-92a5-90991b90d387",
   "metadata": {},
   "outputs": [],
   "source": [
    "def prob7():\n",
    "    let = input(\"Introduzca una letra del sistemas de coordenadas del tablero de ajadrez: \")\n",
    "    num = int(input(\"Introduzca un número entero el sistemas de coordenadas del tablero de ajadrez: \"))\n",
    "    \n",
    "    coori= let=='a' or let=='c' or let=='e' or let=='g'\n",
    "    coorp= let=='b' or let=='d' or let=='f' or let=='h'\n",
    "    coorn=math.fmod(num,2)\n",
    "    \n",
    "    if coori:\n",
    "        if coorn==1:\n",
    "            print(\"La casilla es negra\")\n",
    "        else:\n",
    "            print(\"La casilla es blanca\")\n",
    "    elif coorp:\n",
    "        if coorn==0:\n",
    "            print(\"La casilla es negra\")\n",
    "        else:\n",
    "            print(\"La casilla es blanca\")\n",
    "    else:\n",
    "        print(\"Coordenadas no válidas\")"
   ]
  }
 ],
 "metadata": {
  "kernelspec": {
   "display_name": "Python 3",
   "language": "python",
   "name": "python3"
  },
  "language_info": {
   "codemirror_mode": {
    "name": "ipython",
    "version": 3
   },
   "file_extension": ".py",
   "mimetype": "text/x-python",
   "name": "python",
   "nbconvert_exporter": "python",
   "pygments_lexer": "ipython3",
   "version": "3.8.8"
  }
 },
 "nbformat": 4,
 "nbformat_minor": 5
}
